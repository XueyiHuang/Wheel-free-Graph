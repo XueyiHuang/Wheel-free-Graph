{
 "cells": [
  {
   "cell_type": "code",
   "execution_count": null,
   "metadata": {},
   "outputs": [],
   "source": [
    "def spectral_radius(n):\n",
    "    if n%4==1:\n",
    "        rho=(n+1)/2\n",
    "    if n%4==3:\n",
    "        rho=(n+1)/2\n",
    "    if n%4==0:\n",
    "        rho=(sqrt(n^2+1)+1)/2\n",
    "    if n%4==2:\n",
    "        R.<x>=PolynomialRing(QQ)\n",
    "        f=x^3-x^2-n^2/4*x+n/2\n",
    "        r=f.roots(RealField(1000))\n",
    "        rho=r[2][0]\n",
    "    return rho"
   ]
  },
  {
   "cell_type": "code",
   "execution_count": null,
   "metadata": {},
   "outputs": [],
   "source": [
    "W4=graphs.WheelGraph(4)\n",
    "W5=graphs.WheelGraph(5)\n",
    "W6=graphs.WheelGraph(6)\n",
    "W7=graphs.WheelGraph(7)\n",
    "W8=graphs.WheelGraph(8)\n",
    "W9=graphs.WheelGraph(9)\n",
    "W10=graphs.WheelGraph(10)\n",
    "for l in [4..10]:\n",
    "    T=graphs(l)\n",
    "    rho=spectral_radius(l)\n",
    "    for G in T:\n",
    "        if G.is_connected():\n",
    "            if G.subgraph_search_count(W4,induced=False)==0:\n",
    "                if G.subgraph_search_count(W5,induced=False)==0:\n",
    "                    if G.subgraph_search_count(W6,induced=False)==0:\n",
    "                        if G.subgraph_search_count(W7,induced=False)==0:\n",
    "                            if G.subgraph_search_count(W8,induced=False)==0:\n",
    "                                if G.subgraph_search_count(W9,induced=False)==0:\n",
    "                                     if G.subgraph_search_count(W10,induced=False)==0:\n",
    "                                        A=G.adjacency_matrix();\n",
    "                                        E=A.eigenvalues();\n",
    "                                        E1=sorted(E);\n",
    "                                        if E1[l-1]>rho or abs(E1[l-1]-rho)<1e-10:\n",
    "                                            G.show();\n",
    "                                            print(E1);"
   ]
  }
 ],
 "metadata": {
  "kernelspec": {
   "display_name": "SageMath 9.1",
   "language": "sage",
   "name": "sagemath"
  },
  "language_info": {
   "codemirror_mode": {
    "name": "ipython",
    "version": 3
   },
   "file_extension": ".py",
   "mimetype": "text/x-python",
   "name": "python",
   "nbconvert_exporter": "python",
   "pygments_lexer": "ipython3",
   "version": "3.7.3"
  }
 },
 "nbformat": 4,
 "nbformat_minor": 2
}
